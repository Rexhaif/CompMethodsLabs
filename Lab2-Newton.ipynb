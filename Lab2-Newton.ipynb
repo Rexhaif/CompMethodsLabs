{
 "cells": [
  {
   "cell_type": "code",
   "execution_count": 1,
   "metadata": {},
   "outputs": [],
   "source": [
    "import numpy as np"
   ]
  },
  {
   "cell_type": "code",
   "execution_count": 2,
   "metadata": {},
   "outputs": [],
   "source": [
    "import matplotlib.pylab as lab"
   ]
  },
  {
   "cell_type": "code",
   "execution_count": 23,
   "metadata": {},
   "outputs": [],
   "source": [
    "def split_area(point1 = 0, point2 = 9, N = 10):\n",
    "    d_ = (point2 - point1) / (N - 1)\n",
    "    points = [(point1 + (d_*i)) for i in range(N)]\n",
    "    return points"
   ]
  },
  {
   "cell_type": "code",
   "execution_count": 24,
   "metadata": {},
   "outputs": [],
   "source": [
    "def f(x):\n",
    "    return (x+1) * np.cos(1/x)\n",
    "\n",
    "N = 10\n",
    "M = 50\n",
    "a = 1\n",
    "b = (2 * np.pi) + 1"
   ]
  },
  {
   "cell_type": "markdown",
   "metadata": {},
   "source": [
    "## 1 Разбиение отрезка на N частей"
   ]
  },
  {
   "cell_type": "code",
   "execution_count": 27,
   "metadata": {},
   "outputs": [
    {
     "name": "stdout",
     "output_type": "stream",
     "text": [
      "[1.0, 1.698131700797732, 2.396263401595464, 3.0943951023931953, 3.792526803190927, 4.490658503988659, 5.1887902047863905, 5.886921905584122, 6.585053606381854, 7.283185307179586]\n"
     ]
    }
   ],
   "source": [
    "points = split_area(a, b, N)\n",
    "print(points)"
   ]
  },
  {
   "cell_type": "markdown",
   "metadata": {},
   "source": [
    "## 2 Значение f(x) в узлах интерполяции"
   ]
  },
  {
   "cell_type": "code",
   "execution_count": 28,
   "metadata": {},
   "outputs": [
    {
     "name": "stdout",
     "output_type": "stream",
     "text": [
      "[1.0806046117362795, 2.243663542665429, 3.104795804067537, 3.8824490759289367, 4.626888957132072, 5.355083704142243, 6.074212820282886, 6.787798991959548, 7.497761442923166, 8.205230611913178]\n"
     ]
    }
   ],
   "source": [
    "values = [f(x) for x in points]\n",
    "print(values)"
   ]
  },
  {
   "cell_type": "markdown",
   "metadata": {},
   "source": [
    "## 3 Построить интерполяционный полином Ньютона"
   ]
  },
  {
   "cell_type": "code",
   "execution_count": 29,
   "metadata": {},
   "outputs": [],
   "source": [
    "def Newtonian(x, points, values):\n",
    "    \n",
    "    n = len(points)\n",
    "    step = points[1] - points[0]\n",
    "    \n",
    "    def delta(p: int, i: int):\n",
    "        if p == 1:\n",
    "            return values[i] - values[i - 1]\n",
    "        else:\n",
    "            return delta(p - 1, i) - delta(p - 1, i - 1)\n",
    "        \n",
    "    def factorial(val: int):\n",
    "        if val == 0:\n",
    "            return 1\n",
    "        else:\n",
    "            return val * factorial(val - 1)\n",
    "    \n",
    "    \n",
    "    def C_j(j: int):\n",
    "        if j == 0:\n",
    "            return values[0]\n",
    "        else:\n",
    "            return delta(j, j) / (factorial(j) * np.power(step, j))\n",
    "    \n",
    "    \n",
    "    result = C_j(0)\n",
    "    for j in range(1, n):\n",
    "        s = C_j(j)\n",
    "        for k in range(j):\n",
    "            s *= x - points[k]\n",
    "        result += s\n",
    "        \n",
    "    return result"
   ]
  },
  {
   "cell_type": "markdown",
   "metadata": {},
   "source": [
    "### \\* Полином Лагранжа \\*"
   ]
  },
  {
   "cell_type": "code",
   "execution_count": 30,
   "metadata": {},
   "outputs": [],
   "source": [
    "def Lagrangian(x, points, values):\n",
    "    accum = 0\n",
    "    for i, (x_i, f_x_i) in enumerate(zip(points, values)):\n",
    "        poli = 1\n",
    "        \n",
    "        for j, x_j in enumerate(points):\n",
    "            if j == i:\n",
    "                continue\n",
    "            else:\n",
    "                poli *= (x - x_j) / (x_i - x_j)\n",
    "                \n",
    "        accum += f_x_i * poli\n",
    "        \n",
    "    return accum"
   ]
  },
  {
   "cell_type": "markdown",
   "metadata": {},
   "source": [
    "## 4 Разбиение отрезка на M частей"
   ]
  },
  {
   "cell_type": "code",
   "execution_count": 31,
   "metadata": {},
   "outputs": [
    {
     "name": "stdout",
     "output_type": "stream",
     "text": [
      "[1.0, 1.1282282715750935, 1.256456543150187, 1.3846848147252808, 1.5129130863003744, 1.6411413578754679, 1.7693696294505616, 1.8975979010256552, 2.0258261726007487, 2.1540544441758422, 2.2822827157509358, 2.4105109873260293, 2.5387392589011233, 2.6669675304762164, 2.7951958020513104, 2.923424073626404, 3.0516523452014974, 3.179880616776591, 3.3081088883516845, 3.436337159926778, 3.5645654315018716, 3.6927937030769655, 3.821021974652059, 3.9492502462271526, 4.077478517802247, 4.20570678937734, 4.333935060952433, 4.462163332527527, 4.590391604102621, 4.718619875677714, 4.846848147252808, 4.975076418827902, 5.103304690402995, 5.231532961978089, 5.359761233553182, 5.487989505128276, 5.616217776703369, 5.744446048278463, 5.872674319853556, 6.00090259142865, 6.129130863003743, 6.257359134578837, 6.385587406153931, 6.513815677729024, 6.642043949304118, 6.770272220879211, 6.898500492454305, 7.026728764029398, 7.154957035604492, 7.283185307179586]\n"
     ]
    }
   ],
   "source": [
    "_points = split_area(a, b, M)\n",
    "print(_points)"
   ]
  },
  {
   "cell_type": "markdown",
   "metadata": {},
   "source": [
    "## 5 Выведение таблицы"
   ]
  },
  {
   "cell_type": "code",
   "execution_count": 32,
   "metadata": {},
   "outputs": [
    {
     "name": "stdout",
     "output_type": "stream",
     "text": [
      "|x_i       |f(x_i)    |L(x_i)           |N(x_i)           |\n",
      "|----------|----------|-----------------|-----------------|\n",
      "|1.00000000|1.08060461|1.080604611736280|1.080604611736280|\n",
      "|----------|----------|-----------------|-----------------|\n",
      "|1.12822827|1.34556735|1.341117187092736|1.341117187092733|\n",
      "|----------|----------|-----------------|-----------------|\n",
      "|1.25645654|1.57872944|1.574379679177955|1.574379679177949|\n",
      "|----------|----------|-----------------|-----------------|\n",
      "|1.38468481|1.78937809|1.786511064689580|1.786511064689582|\n",
      "|----------|----------|-----------------|-----------------|\n",
      "|1.51291309|1.98367636|1.982310152692365|1.982310152692363|\n",
      "|----------|----------|-----------------|-----------------|\n",
      "|1.64114136|2.16581645|2.165508236799141|2.165508236799141|\n",
      "|----------|----------|-----------------|-----------------|\n",
      "|1.76936963|2.33872142|2.338981650390783|2.338981650390786|\n",
      "|----------|----------|-----------------|-----------------|\n",
      "|1.89759790|2.50447738|2.504929103825678|2.504929103825680|\n",
      "|----------|----------|-----------------|-----------------|\n",
      "|2.02582617|2.66460511|2.665018280958563|2.665018280958563|\n",
      "|----------|----------|-----------------|-----------------|\n",
      "|2.15405444|2.82023482|2.820505787369230|2.820505787369228|\n",
      "|----------|----------|-----------------|-----------------|\n",
      "|2.28228272|2.97222118|2.972334174494144|2.972334174494142|\n",
      "|----------|----------|-----------------|-----------------|\n",
      "|2.41051099|3.12122077|3.121209412358378|3.121209412358378|\n",
      "|----------|----------|-----------------|-----------------|\n",
      "|2.53873926|3.26774514|3.267661848821354|3.267661848821353|\n",
      "|----------|----------|-----------------|-----------------|\n",
      "|2.66696753|3.41219805|3.412093375177720|3.412093375177719|\n",
      "|----------|----------|-----------------|-----------------|\n",
      "|2.79519580|3.55490195|3.554813216594399|3.554813216594400|\n",
      "|----------|----------|-----------------|-----------------|\n",
      "|2.92342407|3.69611707|3.696064481216184|3.696064481216183|\n",
      "|----------|----------|-----------------|-----------------|\n",
      "|3.05165235|3.83605554|3.836043333835470|3.836043333835469|\n",
      "|----------|----------|-----------------|-----------------|\n",
      "|3.17988062|3.97489182|3.974912408796716|3.974912408796716|\n",
      "|----------|----------|-----------------|-----------------|\n",
      "|3.30810889|4.11277055|4.112809842292896|4.112809842292898|\n",
      "|----------|----------|-----------------|-----------------|\n",
      "|3.43633716|4.24981262|4.249855086409708|4.249855086409708|\n",
      "|----------|----------|-----------------|-----------------|\n",
      "|3.56456543|4.38611974|4.386152466183647|4.386152466183646|\n",
      "|----------|----------|-----------------|-----------------|\n",
      "|3.69279370|4.52177808|4.521793256562053|4.521793256562057|\n",
      "|----------|----------|-----------------|-----------------|\n",
      "|3.82102197|4.65686104|4.656856888487056|4.656856888487056|\n",
      "|----------|----------|-----------------|-----------------|\n",
      "|3.94925025|4.79143156|4.791411742370944|4.791411742370943|\n",
      "|----------|----------|-----------------|-----------------|\n",
      "|4.07747852|4.92554387|4.925515852987923|4.925515852987925|\n",
      "|----------|----------|-----------------|-----------------|\n",
      "|4.20570679|5.05924489|5.059217732276223|5.059217732276221|\n",
      "|----------|----------|-----------------|-----------------|\n",
      "|4.33393506|5.19257547|5.192557415725572|5.192557415725569|\n",
      "|----------|----------|-----------------|-----------------|\n",
      "|4.46216333|5.32557131|5.325567753917667|5.325567753917669|\n",
      "|----------|----------|-----------------|-----------------|\n",
      "|4.59039160|5.45826370|5.458275903391744|5.458275903391743|\n",
      "|----------|----------|-----------------|-----------------|\n",
      "|4.71861988|5.59068022|5.590704920323553|5.590704920323552|\n",
      "|----------|----------|-----------------|-----------------|\n",
      "|4.84684815|5.72284524|5.722875326534155|5.722875326534154|\n",
      "|----------|----------|-----------------|-----------------|\n",
      "|4.97507642|5.85478039|5.854806500084564|5.854806500084562|\n",
      "|----------|----------|-----------------|-----------------|\n",
      "|5.10330469|5.98650492|5.986517742163979|5.986517742163978|\n",
      "|----------|----------|-----------------|-----------------|\n",
      "|5.23153296|6.11803600|6.118028888142546|6.118028888142545|\n",
      "|----------|----------|-----------------|-----------------|\n",
      "|5.35976123|6.24938903|6.249360363534765|6.249360363534767|\n",
      "|----------|----------|-----------------|-----------------|\n",
      "|5.48798951|6.38057780|6.380532635206479|6.380532635206480|\n",
      "|----------|----------|-----------------|-----------------|\n",
      "|5.61621778|6.51161476|6.511565074457044|6.511565074457042|\n",
      "|----------|----------|-----------------|-----------------|\n",
      "|5.74444605|6.64251114|6.642474331618693|6.642474331618692|\n",
      "|----------|----------|-----------------|-----------------|\n",
      "|5.87267432|6.77327708|6.773272421537295|6.773272421537294|\n",
      "|----------|----------|-----------------|-----------------|\n",
      "|6.00090259|6.90392182|6.903964835732633|6.903964835732633|\n",
      "|----------|----------|-----------------|-----------------|\n",
      "|6.12913086|7.03445371|7.034549130182111|7.034549130182110|\n",
      "|----------|----------|-----------------|-----------------|\n",
      "|6.25735913|7.16488039|7.165014587529314|7.165014587529312|\n",
      "|----------|----------|-----------------|-----------------|\n",
      "|6.38558741|7.29520881|7.295343719087966|7.295343719087963|\n",
      "|----------|----------|-----------------|-----------------|\n",
      "|6.51381568|7.42544535|7.425516555293181|7.425516555293184|\n",
      "|----------|----------|-----------------|-----------------|\n",
      "|6.64204395|7.55559583|7.555518873244409|7.555518873244409|\n",
      "|----------|----------|-----------------|-----------------|\n",
      "|6.77027222|7.68566562|7.685355726689224|7.685355726689226|\n",
      "|----------|----------|-----------------|-----------------|\n",
      "|6.89850049|7.81565963|7.815071877213557|7.815071877213558|\n",
      "|----------|----------|-----------------|-----------------|\n",
      "|7.02672876|7.94558239|7.944780975531920|7.944780975531918|\n",
      "|----------|----------|-----------------|-----------------|\n",
      "|7.15495704|8.07543810|8.074705608611168|8.074705608611170|\n",
      "|----------|----------|-----------------|-----------------|\n",
      "|7.28318531|8.20523061|8.205230611913178|8.205230611913173|\n",
      "|----------|----------|-----------------|-----------------|\n"
     ]
    }
   ],
   "source": [
    "print(\"|x_i       |f(x_i)    |L(x_i)           |N(x_i)           |\")\n",
    "print(\"|----------|----------|-----------------|-----------------|\")\n",
    "for x_i, f_x_i, L_x_i, N_x_i in zip(\n",
    "    _points,\n",
    "    [f(x) for x in _points],\n",
    "    [Lagrangian(x, points, values) for x in _points],\n",
    "    [Newtonian(x, points, values) for x in _points]\n",
    "):\n",
    "    print(f'|{x_i:.8f}|{f_x_i:.8f}|{L_x_i:.15f}|{N_x_i:.15f}|')\n",
    "    print(\"|----------|----------|-----------------|-----------------|\")"
   ]
  },
  {
   "cell_type": "markdown",
   "metadata": {},
   "source": [
    "## \\* Графики \\*"
   ]
  },
  {
   "cell_type": "code",
   "execution_count": 33,
   "metadata": {},
   "outputs": [
    {
     "data": {
      "text/plain": [
       "<matplotlib.legend.Legend at 0x7f3f0d056518>"
      ]
     },
     "execution_count": 33,
     "metadata": {},
     "output_type": "execute_result"
    },
    {
     "data": {
      "image/png": "[encoded data removed]",
      "text/plain": [
       "<Figure size 1440x1440 with 1 Axes>"
      ]
     },
     "metadata": {},
     "output_type": "display_data"
    }
   ],
   "source": [
    "lab.figure(figsize=(20, 20))\n",
    "lab.plot(_points, [f(x) for x in _points], '-o')\n",
    "lab.plot(_points, [Newtonian(x=x, points=points, values=values) for x in _points], ':o')\n",
    "lab.plot(_points, [Lagrangian(points=points, values=values, x=x) for x in _points], '.')\n",
    "lab.legend(['f(x)', 'N(x)', 'L(x)'], loc='upper left')"
   ]
  },
  {
   "cell_type": "code",
   "execution_count": null,
   "metadata": {},
   "outputs": [],
   "source": []
  }
 ],
 "metadata": {
  "kernelspec": {
   "display_name": "Python 3",
   "language": "python",
   "name": "python3"
  },
  "language_info": {
   "codemirror_mode": {
    "name": "ipython",
    "version": 3
   },
   "file_extension": ".py",
   "mimetype": "text/x-python",
   "name": "python",
   "nbconvert_exporter": "python",
   "pygments_lexer": "ipython3",
   "version": "3.6.4"
  }
 },
 "nbformat": 4,
 "nbformat_minor": 2
}
