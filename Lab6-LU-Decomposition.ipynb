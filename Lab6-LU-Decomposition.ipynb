{
 "cells": [
  {
   "cell_type": "code",
   "execution_count": 1,
   "metadata": {},
   "outputs": [],
   "source": [
    "import numpy as np"
   ]
  },
  {
   "cell_type": "code",
   "execution_count": 26,
   "metadata": {},
   "outputs": [],
   "source": [
    "shape = [4, 4]"
   ]
  },
  {
   "cell_type": "markdown",
   "metadata": {},
   "source": [
    "## Матрица"
   ]
  },
  {
   "cell_type": "code",
   "execution_count": 142,
   "metadata": {},
   "outputs": [
    {
     "name": "stdout",
     "output_type": "stream",
     "text": [
      "[[4 1 7 9]\n",
      " [6 0 9 6]\n",
      " [5 2 4 2]\n",
      " [4 6 7 5]]\n"
     ]
    }
   ],
   "source": [
    "matrix = (np.random.random(size=shape) * 10).astype(np.int)\n",
    "print(matrix)"
   ]
  },
  {
   "cell_type": "code",
   "execution_count": 123,
   "metadata": {},
   "outputs": [
    {
     "name": "stdout",
     "output_type": "stream",
     "text": [
      "[[1 2 2 1]\n",
      " [7 1 1 9]\n",
      " [8 1 1 5]\n",
      " [0 1 1 0]]\n"
     ]
    }
   ],
   "source": [
    "matrix = np.array([[1, 2, 2, 1],\n",
    "                   [7, 1, 1, 9],\n",
    "                   [8, 1, 1, 5],\n",
    "                   [0, 1, 1, 0]])\n",
    "print(matrix)"
   ]
  },
  {
   "cell_type": "markdown",
   "metadata": {},
   "source": [
    "## Проверка на невырожденность"
   ]
  },
  {
   "cell_type": "code",
   "execution_count": 143,
   "metadata": {},
   "outputs": [
    {
     "name": "stdout",
     "output_type": "stream",
     "text": [
      "Определитель матрицы = -567.0000\n",
      "Матрица не вырождена\n"
     ]
    }
   ],
   "source": [
    "print(f'Определитель матрицы = {np.linalg.det(matrix):5.4f}')\n",
    "print(f'Матрица {\"не \" if np.linalg.det(matrix) != 0 else \" \"}вырождена')"
   ]
  },
  {
   "cell_type": "markdown",
   "metadata": {},
   "source": [
    "## Проверка главных миноров"
   ]
  },
  {
   "cell_type": "code",
   "execution_count": 144,
   "metadata": {},
   "outputs": [
    {
     "name": "stdout",
     "output_type": "stream",
     "text": [
      "Минор M_11 не вырожден\n",
      "Минор M_22 не вырожден\n",
      "Минор M_33 не вырожден\n"
     ]
    }
   ],
   "source": [
    "for i in range(matrix.shape[0] - 1):\n",
    "    minor = matrix[:i+1, :i+1]\n",
    "    if np.linalg.det(matrix) != 0:\n",
    "        print(f'Минор M_{i+1}{i+1} не вырожден')\n",
    "    else:\n",
    "        print(f'Минор M_{i+1}{i+1} вырожден')\n",
    "        print(f'M_{i+1}{i+1}:\\n{str(minor)}')"
   ]
  },
  {
   "cell_type": "markdown",
   "metadata": {},
   "source": [
    "## LU-разложение"
   ]
  },
  {
   "cell_type": "code",
   "execution_count": 128,
   "metadata": {},
   "outputs": [],
   "source": [
    "def lu_decomposition(matrix):\n",
    "    lu = np.zeros(matrix.shape)\n",
    "    n = shape[0]\n",
    "    for i in range (n):\n",
    "        for j in range(n):\n",
    "            if i is 0:\n",
    "                lu[i, j] = matrix[i, j]\n",
    "                if j > i:\n",
    "                    lu[j, i] = matrix[j, i] / lu[i, i]\n",
    "            else:\n",
    "                if j >= i:\n",
    "                    vr = np.sum([lu[i, k] * lu[k, j] for k in range(i)])\n",
    "                    lu[i, j] = matrix[i, j] - vr\n",
    "                    \n",
    "                if j >= i+1:\n",
    "                    vr = np.sum([lu[j, k] * lu[k, i] for k in range(i)])\n",
    "                    lu[j, i] = (matrix[j, i] - vr) / lu[i, i]\n",
    "                    \n",
    "    return lu"
   ]
  },
  {
   "cell_type": "code",
   "execution_count": 129,
   "metadata": {},
   "outputs": [],
   "source": [
    "def get_L(lu):\n",
    "    n = lu.shape[0]\n",
    "    l = lu.copy()\n",
    "    for i in range(n):\n",
    "        for j in range(n):\n",
    "            if i == j:\n",
    "                l[i, j] = 1\n",
    "            if j > i:\n",
    "                l[i, j] = 0\n",
    "    return l\n",
    "\n",
    "def get_U(lu):\n",
    "    n = lu.shape[0]\n",
    "    u = lu.copy()\n",
    "    for i in range(n):\n",
    "        for j in range(n):\n",
    "            if i > j:\n",
    "                u[i, j] = 0\n",
    "                \n",
    "    return u"
   ]
  },
  {
   "cell_type": "code",
   "execution_count": 151,
   "metadata": {},
   "outputs": [],
   "source": [
    "lu = lu_decomposition(matrix)"
   ]
  },
  {
   "cell_type": "code",
   "execution_count": 152,
   "metadata": {},
   "outputs": [
    {
     "name": "stdout",
     "output_type": "stream",
     "text": [
      "Исходная матрица A:\n",
      "[[4 1 7 9]\n",
      " [6 0 9 6]\n",
      " [5 2 4 2]\n",
      " [4 6 7 5]]\n",
      "L:\n",
      "[[ 1.          0.          0.          0.        ]\n",
      " [ 1.5         1.          0.          0.        ]\n",
      " [ 1.25       -0.5         1.          0.        ]\n",
      " [ 1.         -3.33333333  0.90909091  1.        ]]\n",
      "U:\n",
      "[[  4.           1.           7.           9.        ]\n",
      " [  0.          -1.5         -1.5         -7.5       ]\n",
      " [  0.           0.          -5.5        -13.        ]\n",
      " [  0.           0.           0.         -17.18181818]]\n",
      "B = L x U - A\n",
      "B:\n",
      "[[0. 0. 0. 0.]\n",
      " [0. 0. 0. 0.]\n",
      " [0. 0. 0. 0.]\n",
      " [0. 0. 0. 0.]]\n"
     ]
    }
   ],
   "source": [
    "print(\"Исходная матрица A:\\n\" +\n",
    "      str(matrix)\n",
    ")\n",
    "print(\"L:\\n\" +\n",
    "      str(get_L(lu))\n",
    ")\n",
    "print(\"U:\\n\" +\n",
    "      str(get_U(lu))\n",
    ")\n",
    "print(\"B = L x U - A\\n\" + \n",
    "      \"B:\\n\" +\n",
    "      str(np.matmul(get_L(lu), get_U(lu)) - matrix)\n",
    ")"
   ]
  },
  {
   "cell_type": "code",
   "execution_count": null,
   "metadata": {},
   "outputs": [],
   "source": []
  }
 ],
 "metadata": {
  "kernelspec": {
   "display_name": "Python 3",
   "language": "python",
   "name": "python3"
  },
  "language_info": {
   "codemirror_mode": {
    "name": "ipython",
    "version": 3
   },
   "file_extension": ".py",
   "mimetype": "text/x-python",
   "name": "python",
   "nbconvert_exporter": "python",
   "pygments_lexer": "ipython3",
   "version": "3.6.4"
  }
 },
 "nbformat": 4,
 "nbformat_minor": 2
}
