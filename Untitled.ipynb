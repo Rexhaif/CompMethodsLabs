{
 "cells": [
  {
   "cell_type": "code",
   "execution_count": 23,
   "metadata": {},
   "outputs": [],
   "source": [
    "import numpy as np"
   ]
  },
  {
   "cell_type": "markdown",
   "metadata": {},
   "source": [
    "## Исходная грамматика (правила)"
   ]
  },
  {
   "cell_type": "code",
   "execution_count": 2,
   "metadata": {},
   "outputs": [],
   "source": [
    "grammatic = [\n",
    "    ['S', 'aC'],\n",
    "    ['S', 'aA'],\n",
    "    ['C', 'cC'],\n",
    "    ['C', 'a'],\n",
    "    ['A', 'aC'],\n",
    "    ['A', 'c']\n",
    "]"
   ]
  },
  {
   "cell_type": "code",
   "execution_count": 5,
   "metadata": {},
   "outputs": [],
   "source": [
    "nonterminal = {'N'}\n",
    "terminal = set()\n",
    "\n",
    "for rule in grammatic:\n",
    "    nonterminal.add(rule[0])\n",
    "    if len(rule[1]) is 1:\n",
    "        terminal.add(rule[1])##only one char - term\n",
    "    else:\n",
    "        terminal.add(rule[1][0])##two chars - first is term"
   ]
  },
  {
   "cell_type": "code",
   "execution_count": 6,
   "metadata": {},
   "outputs": [
    {
     "name": "stdout",
     "output_type": "stream",
     "text": [
      "Nonterminal Symbols: {'C', 'N', 'A', 'S'}\n",
      "Terminal symbols: {'a', 'c'}\n"
     ]
    }
   ],
   "source": [
    "print(f'Nonterminal Symbols: {nonterminal}')\n",
    "print(f'Terminal symbols: {terminal}')"
   ]
  },
  {
   "cell_type": "code",
   "execution_count": 38,
   "metadata": {},
   "outputs": [
    {
     "data": {
      "text/plain": [
       "array([['0', '0'],\n",
       "       ['0', '0'],\n",
       "       ['0', '0'],\n",
       "       ['0', '0']], dtype='<U21')"
      ]
     },
     "execution_count": 38,
     "metadata": {},
     "output_type": "execute_result"
    }
   ],
   "source": [
    "nonterminal = list(nonterminal)\n",
    "terminal = list(terminal)\n",
    "automate = np.zeros([len(nonterminal), len(terminal)]).astype(np.int).astype(str)\n",
    "automate"
   ]
  },
  {
   "cell_type": "code",
   "execution_count": 39,
   "metadata": {},
   "outputs": [],
   "source": [
    "for rule in grammatic:\n",
    "    if len(rule[1]) is 1:\n",
    "        curr = automate[\n",
    "            nonterminal.index(rule[0]),\n",
    "            terminal.index(rule[1])\n",
    "        ]\n",
    "        \n",
    "        curr = \"N\" if curr == '0' else curr + ',N'\n",
    "        \n",
    "        automate[\n",
    "            nonterminal.index(rule[0]),\n",
    "            terminal.index(rule[1])\n",
    "        ] = curr\n",
    "    else:\n",
    "        curr = automate[\n",
    "            nonterminal.index(rule[0]),\n",
    "            terminal.index(rule[1][0])\n",
    "        ]\n",
    "        \n",
    "        curr = rule[1][1] if curr == '0' else curr + str(\",\" + rule[1][1])\n",
    "        \n",
    "        automate[\n",
    "            nonterminal.index(rule[0]),\n",
    "            terminal.index(rule[1][0])\n",
    "        ] = curr"
   ]
  },
  {
   "cell_type": "markdown",
   "metadata": {},
   "source": [
    "## Матрица переходов НКА"
   ]
  },
  {
   "cell_type": "code",
   "execution_count": 44,
   "metadata": {},
   "outputs": [
    {
     "data": {
      "text/plain": [
       "array([['N', 'C'],\n",
       "       ['0', '0'],\n",
       "       ['C', 'N'],\n",
       "       ['C,A', '0']], dtype='<U21')"
      ]
     },
     "execution_count": 44,
     "metadata": {},
     "output_type": "execute_result"
    }
   ],
   "source": [
    "automate"
   ]
  },
  {
   "cell_type": "code",
   "execution_count": 49,
   "metadata": {},
   "outputs": [
    {
     "name": "stdout",
     "output_type": "stream",
     "text": [
      "From state (C) via symbol -a- to state(-s) (N)\n",
      "From state (C) via symbol -c- to state(-s) (C) <=> Loop\n",
      "From state (A) via symbol -a- to state(-s) (C)\n",
      "From state (A) via symbol -c- to state(-s) (N)\n",
      "From state (S) via symbol -a- to state(-s) (C,A)\n"
     ]
    }
   ],
   "source": [
    "for i, n in enumerate(nonterminal):\n",
    "    for j, t in enumerate(terminal):\n",
    "        if automate[i, j] != '0':\n",
    "            print(f\"From state ({n}) via symbol -{t}- to state(-s) ({automate[i, j]})\", end=\"\")\n",
    "            if n == automate[i, j]:\n",
    "                print(' <=> Loop')\n",
    "            else:\n",
    "                print(\"\")"
   ]
  }
 ],
 "metadata": {
  "kernelspec": {
   "display_name": "Python 3",
   "language": "python",
   "name": "python3"
  },
  "language_info": {
   "codemirror_mode": {
    "name": "ipython",
    "version": 3
   },
   "file_extension": ".py",
   "mimetype": "text/x-python",
   "name": "python",
   "nbconvert_exporter": "python",
   "pygments_lexer": "ipython3",
   "version": "3.6.4"
  }
 },
 "nbformat": 4,
 "nbformat_minor": 2
}
