{
 "cells": [
  {
   "cell_type": "code",
   "execution_count": 1,
   "metadata": {},
   "outputs": [],
   "source": [
    "import numpy as np"
   ]
  },
  {
   "cell_type": "code",
   "execution_count": 23,
   "metadata": {},
   "outputs": [],
   "source": [
    "import matplotlib.pylab as lab"
   ]
  },
  {
   "cell_type": "code",
   "execution_count": 71,
   "metadata": {},
   "outputs": [],
   "source": [
    "def split_area(point1 = 0, point2 = 9, N = 10):\n",
    "    delta = (point2 - point1) / (N - 1)\n",
    "    points = [(point1 + (delta*i)) for i in range(N)]\n",
    "    return points"
   ]
  },
  {
   "cell_type": "code",
   "execution_count": 72,
   "metadata": {},
   "outputs": [],
   "source": [
    "def f(x):\n",
    "    return (x+1) * np.cos(1/x)"
   ]
  },
  {
   "cell_type": "markdown",
   "metadata": {},
   "source": [
    "## 1 Разбиение отрезка на N частей"
   ]
  },
  {
   "cell_type": "code",
   "execution_count": 80,
   "metadata": {},
   "outputs": [
    {
     "name": "stdout",
     "output_type": "stream",
     "text": [
      "[1.0, 1.698131700797732, 2.396263401595464, 3.0943951023931953, 3.792526803190927, 4.490658503988659, 5.1887902047863905, 5.886921905584122, 6.585053606381854, 7.283185307179586]\n"
     ]
    }
   ],
   "source": [
    "N = 10\n",
    "points = split_area(1, (2*np.pi) + 1, N)\n",
    "print(points)"
   ]
  },
  {
   "cell_type": "markdown",
   "metadata": {},
   "source": [
    "## 2 Значение f(x) в узлах интерполяции"
   ]
  },
  {
   "cell_type": "code",
   "execution_count": 75,
   "metadata": {},
   "outputs": [
    {
     "name": "stdout",
     "output_type": "stream",
     "text": [
      "[1.0806046117362795, 2.243663542665429, 3.104795804067537, 3.8824490759289367, 4.626888957132072, 5.355083704142243, 6.074212820282886, 6.787798991959548, 7.497761442923166, 8.205230611913178]\n"
     ]
    }
   ],
   "source": [
    "values = [f(x) for x in points]\n",
    "print(values)"
   ]
  },
  {
   "cell_type": "code",
   "execution_count": 78,
   "metadata": {},
   "outputs": [
    {
     "data": {
      "text/plain": [
       "[<matplotlib.lines.Line2D at 0x7f2adcc3ada0>]"
      ]
     },
     "execution_count": 78,
     "metadata": {},
     "output_type": "execute_result"
    },
    {
     "data": {
      "image/png": "[encoded data removed]",
      "text/plain": [
       "<Figure size 432x288 with 1 Axes>"
      ]
     },
     "metadata": {},
     "output_type": "display_data"
    }
   ],
   "source": [
    "lab.figure()\n",
    "lab.plot(points, values)"
   ]
  },
  {
   "cell_type": "markdown",
   "metadata": {},
   "source": [
    "## 3 Построить интерполяционный полином Лагранжа"
   ]
  },
  {
   "cell_type": "code",
   "execution_count": 50,
   "metadata": {},
   "outputs": [],
   "source": [
    "def Lagrangian(x, points, values):\n",
    "    accum = 0\n",
    "    for i, (x_i, f_x_i) in enumerate(zip(points, values)):\n",
    "        poli = 1\n",
    "        \n",
    "        for j, x_j in enumerate(points):\n",
    "            if j == i:\n",
    "                continue\n",
    "            else:\n",
    "                poli *= (x - x_j) / (x_i - x_j)\n",
    "                \n",
    "        accum += f_x_i * poli\n",
    "        \n",
    "    return accum"
   ]
  },
  {
   "cell_type": "markdown",
   "metadata": {},
   "source": [
    "## 4 Разбиение отрезка на M частей"
   ]
  },
  {
   "cell_type": "code",
   "execution_count": 82,
   "metadata": {},
   "outputs": [],
   "source": [
    "M = 50"
   ]
  },
  {
   "cell_type": "code",
   "execution_count": 84,
   "metadata": {},
   "outputs": [
    {
     "name": "stdout",
     "output_type": "stream",
     "text": [
      "[1.0, 1.1282282715750935, 1.256456543150187, 1.3846848147252808, 1.5129130863003744, 1.6411413578754679, 1.7693696294505616, 1.8975979010256552, 2.0258261726007487, 2.1540544441758422, 2.2822827157509358, 2.4105109873260293, 2.5387392589011233, 2.6669675304762164, 2.7951958020513104, 2.923424073626404, 3.0516523452014974, 3.179880616776591, 3.3081088883516845, 3.436337159926778, 3.5645654315018716, 3.6927937030769655, 3.821021974652059, 3.9492502462271526, 4.077478517802247, 4.20570678937734, 4.333935060952433, 4.462163332527527, 4.590391604102621, 4.718619875677714, 4.846848147252808, 4.975076418827902, 5.103304690402995, 5.231532961978089, 5.359761233553182, 5.487989505128276, 5.616217776703369, 5.744446048278463, 5.872674319853556, 6.00090259142865, 6.129130863003743, 6.257359134578837, 6.385587406153931, 6.513815677729024, 6.642043949304118, 6.770272220879211, 6.898500492454305, 7.026728764029398, 7.154957035604492, 7.283185307179586]\n"
     ]
    }
   ],
   "source": [
    "_points = split_area(1, (2*np.pi) + 1, M)\n",
    "print(_points)"
   ]
  },
  {
   "cell_type": "markdown",
   "metadata": {},
   "source": [
    "## 5 Выведение таблицы"
   ]
  },
  {
   "cell_type": "code",
   "execution_count": 91,
   "metadata": {},
   "outputs": [],
   "source": [
    "df = pd.DataFrame({\n",
    "    \"L(x_i)\": [Lagrangian(x, points, values) for x in _points],\n",
    "    \"f(x_i)\": [f(x) for x in _points],\n",
    "    \"x_i\": _points\n",
    "})"
   ]
  },
  {
   "cell_type": "code",
   "execution_count": 100,
   "metadata": {},
   "outputs": [
    {
     "name": "stdout",
     "output_type": "stream",
     "text": [
      "|x_i       |f(x_i)    |L(x_i)    |\n",
      "|----------|----------|----------|\n",
      "|1.000000  |1.080605  |1.080605  |\n",
      "|----------|----------|----------|\n",
      "|1.128228  |1.345567  |1.341117  |\n",
      "|----------|----------|----------|\n",
      "|1.256457  |1.578729  |1.574380  |\n",
      "|----------|----------|----------|\n",
      "|1.384685  |1.789378  |1.786511  |\n",
      "|----------|----------|----------|\n",
      "|1.512913  |1.983676  |1.982310  |\n",
      "|----------|----------|----------|\n",
      "|1.641141  |2.165816  |2.165508  |\n",
      "|----------|----------|----------|\n",
      "|1.769370  |2.338721  |2.338982  |\n",
      "|----------|----------|----------|\n",
      "|1.897598  |2.504477  |2.504929  |\n",
      "|----------|----------|----------|\n",
      "|2.025826  |2.664605  |2.665018  |\n",
      "|----------|----------|----------|\n",
      "|2.154054  |2.820235  |2.820506  |\n",
      "|----------|----------|----------|\n",
      "|2.282283  |2.972221  |2.972334  |\n",
      "|----------|----------|----------|\n",
      "|2.410511  |3.121221  |3.121209  |\n",
      "|----------|----------|----------|\n",
      "|2.538739  |3.267745  |3.267662  |\n",
      "|----------|----------|----------|\n",
      "|2.666968  |3.412198  |3.412093  |\n",
      "|----------|----------|----------|\n",
      "|2.795196  |3.554902  |3.554813  |\n",
      "|----------|----------|----------|\n",
      "|2.923424  |3.696117  |3.696064  |\n",
      "|----------|----------|----------|\n",
      "|3.051652  |3.836056  |3.836043  |\n",
      "|----------|----------|----------|\n",
      "|3.179881  |3.974892  |3.974912  |\n",
      "|----------|----------|----------|\n",
      "|3.308109  |4.112771  |4.112810  |\n",
      "|----------|----------|----------|\n",
      "|3.436337  |4.249813  |4.249855  |\n",
      "|----------|----------|----------|\n",
      "|3.564565  |4.386120  |4.386152  |\n",
      "|----------|----------|----------|\n",
      "|3.692794  |4.521778  |4.521793  |\n",
      "|----------|----------|----------|\n",
      "|3.821022  |4.656861  |4.656857  |\n",
      "|----------|----------|----------|\n",
      "|3.949250  |4.791432  |4.791412  |\n",
      "|----------|----------|----------|\n",
      "|4.077479  |4.925544  |4.925516  |\n",
      "|----------|----------|----------|\n",
      "|4.205707  |5.059245  |5.059218  |\n",
      "|----------|----------|----------|\n",
      "|4.333935  |5.192575  |5.192557  |\n",
      "|----------|----------|----------|\n",
      "|4.462163  |5.325571  |5.325568  |\n",
      "|----------|----------|----------|\n",
      "|4.590392  |5.458264  |5.458276  |\n",
      "|----------|----------|----------|\n",
      "|4.718620  |5.590680  |5.590705  |\n",
      "|----------|----------|----------|\n",
      "|4.846848  |5.722845  |5.722875  |\n",
      "|----------|----------|----------|\n",
      "|4.975076  |5.854780  |5.854807  |\n",
      "|----------|----------|----------|\n",
      "|5.103305  |5.986505  |5.986518  |\n",
      "|----------|----------|----------|\n",
      "|5.231533  |6.118036  |6.118029  |\n",
      "|----------|----------|----------|\n",
      "|5.359761  |6.249389  |6.249360  |\n",
      "|----------|----------|----------|\n",
      "|5.487990  |6.380578  |6.380533  |\n",
      "|----------|----------|----------|\n",
      "|5.616218  |6.511615  |6.511565  |\n",
      "|----------|----------|----------|\n",
      "|5.744446  |6.642511  |6.642474  |\n",
      "|----------|----------|----------|\n",
      "|5.872674  |6.773277  |6.773272  |\n",
      "|----------|----------|----------|\n",
      "|6.000903  |6.903922  |6.903965  |\n",
      "|----------|----------|----------|\n",
      "|6.129131  |7.034454  |7.034549  |\n",
      "|----------|----------|----------|\n",
      "|6.257359  |7.164880  |7.165015  |\n",
      "|----------|----------|----------|\n",
      "|6.385587  |7.295209  |7.295344  |\n",
      "|----------|----------|----------|\n",
      "|6.513816  |7.425445  |7.425517  |\n",
      "|----------|----------|----------|\n",
      "|6.642044  |7.555596  |7.555519  |\n",
      "|----------|----------|----------|\n",
      "|6.770272  |7.685666  |7.685356  |\n",
      "|----------|----------|----------|\n",
      "|6.898500  |7.815660  |7.815072  |\n",
      "|----------|----------|----------|\n",
      "|7.026729  |7.945582  |7.944781  |\n",
      "|----------|----------|----------|\n",
      "|7.154957  |8.075438  |8.074706  |\n",
      "|----------|----------|----------|\n",
      "|7.283185  |8.205231  |8.205231  |\n",
      "|----------|----------|----------|\n"
     ]
    }
   ],
   "source": [
    "print(\"|x_i       |f(x_i)    |L(x_i)    |\")\n",
    "print(\"|----------|----------|----------|\")\n",
    "for x_i, f_x_i, L_x_i in zip(_points, [f(x) for x in _points], [Lagrangian(x, points, values) for x in _points]):\n",
    "    print(f'|{x_i:.6f}  |{f_x_i:.6f}  |{L_x_i:.6f}  |')\n",
    "    print(\"|----------|----------|----------|\")"
   ]
  },
  {
   "cell_type": "code",
   "execution_count": null,
   "metadata": {},
   "outputs": [],
   "source": []
  }
 ],
 "metadata": {
  "kernelspec": {
   "display_name": "Python 3",
   "language": "python",
   "name": "python3"
  },
  "language_info": {
   "codemirror_mode": {
    "name": "ipython",
    "version": 3
   },
   "file_extension": ".py",
   "mimetype": "text/x-python",
   "name": "python",
   "nbconvert_exporter": "python",
   "pygments_lexer": "ipython3",
   "version": "3.6.4"
  }
 },
 "nbformat": 4,
 "nbformat_minor": 2
}
